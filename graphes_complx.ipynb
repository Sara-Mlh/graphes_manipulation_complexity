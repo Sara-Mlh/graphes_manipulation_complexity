{
  "nbformat": 4,
  "nbformat_minor": 0,
  "metadata": {
    "colab": {
      "provenance": []
    },
    "kernelspec": {
      "name": "python3",
      "display_name": "Python 3"
    },
    "language_info": {
      "name": "python"
    }
  },
  "cells": [
    {
      "cell_type": "code",
      "source": [
        "import networkx as nx\n",
        "import matplotlib.pyplot as plt\n",
        "from collections import deque"
      ],
      "metadata": {
        "id": "FYdyquoLJLpH"
      },
      "execution_count": null,
      "outputs": []
    },
    {
      "cell_type": "markdown",
      "source": [
        "# **PART ONE:**"
      ],
      "metadata": {
        "id": "DrrGKgxQOoCD"
      }
    },
    {
      "cell_type": "markdown",
      "source": [
        "**Graphe :**\n"
      ],
      "metadata": {
        "id": "2NSzup0COwIR"
      }
    },
    {
      "cell_type": "markdown",
      "source": [],
      "metadata": {
        "id": "7MQkqpFaOslp"
      }
    },
    {
      "cell_type": "markdown",
      "source": [
        "#**PART TWO :**\n",
        "---\n",
        "\n"
      ],
      "metadata": {
        "id": "zVm9rqKyr-TJ"
      }
    },
    {
      "cell_type": "markdown",
      "source": [
        "**GraphG3:**"
      ],
      "metadata": {
        "id": "B9U8ZY4yrUiJ"
      }
    },
    {
      "cell_type": "code",
      "source": [
        "GraphG3 ={\n",
        "    'a':['b','d','f'],\n",
        "    'b':['a','c'],\n",
        "    'c':['b','d','e'],\n",
        "    'd':['a','c','e','f'],\n",
        "    'e':['c','d','f'],\n",
        "    'f':['a','d','e']\n",
        "}\n",
        "GraphG3"
      ],
      "metadata": {
        "id": "vHqoTkEcsosk",
        "colab": {
          "base_uri": "https://localhost:8080/"
        },
        "outputId": "b045cdf5-5c5c-427a-e8c0-c604aee65307"
      },
      "execution_count": null,
      "outputs": [
        {
          "output_type": "execute_result",
          "data": {
            "text/plain": [
              "{'a': ['b', 'd', 'f'],\n",
              " 'b': ['a', 'c'],\n",
              " 'c': ['b', 'd', 'e'],\n",
              " 'd': ['a', 'c', 'e', 'f'],\n",
              " 'e': ['c', 'd', 'f'],\n",
              " 'f': ['a', 'd', 'e']}"
            ]
          },
          "metadata": {},
          "execution_count": 106
        }
      ]
    },
    {
      "cell_type": "code",
      "source": [
        "GraphG3['a']"
      ],
      "metadata": {
        "colab": {
          "base_uri": "https://localhost:8080/"
        },
        "id": "eh_qjg-TaWzU",
        "outputId": "4e7f8e80-731b-41f1-895e-37771b0ba433"
      },
      "execution_count": null,
      "outputs": [
        {
          "output_type": "execute_result",
          "data": {
            "text/plain": [
              "['b', 'd', 'f']"
            ]
          },
          "metadata": {},
          "execution_count": 111
        }
      ]
    },
    {
      "cell_type": "code",
      "source": [
        "noeuds = GraphG3.keys()\n",
        "noeuds"
      ],
      "metadata": {
        "colab": {
          "base_uri": "https://localhost:8080/"
        },
        "id": "RkftnHSdsopV",
        "outputId": "489f58c7-a3bc-4664-901a-a28cfd25c3ce"
      },
      "execution_count": null,
      "outputs": [
        {
          "output_type": "execute_result",
          "data": {
            "text/plain": [
              "dict_keys(['a', 'b', 'c', 'd', 'e', 'f'])"
            ]
          },
          "metadata": {},
          "execution_count": 4
        }
      ]
    },
    {
      "cell_type": "code",
      "source": [
        "print(\"le grapheG3 est : \\n\")\n",
        "for noeud in noeuds:\n",
        "  print(noeud ,\"->\" ,GraphG3[noeud])"
      ],
      "metadata": {
        "colab": {
          "base_uri": "https://localhost:8080/"
        },
        "id": "n0WnBZKKsomT",
        "outputId": "cc81401b-ce13-407a-8b32-9bac415d7150"
      },
      "execution_count": null,
      "outputs": [
        {
          "output_type": "stream",
          "name": "stdout",
          "text": [
            "le grapheG3 est : \n",
            "\n",
            "a -> ['b', 'd', 'f']\n",
            "b -> ['a', 'c']\n",
            "c -> ['b', 'd', 'e']\n",
            "d -> ['a', 'c', 'e', 'f']\n",
            "e -> ['c', 'd', 'f']\n",
            "f -> ['a', 'd', 'e']\n"
          ]
        }
      ]
    },
    {
      "cell_type": "markdown",
      "source": [
        "**Representation GraphG3 (not directed )**"
      ],
      "metadata": {
        "id": "iDuFNlRmiW8f"
      }
    },
    {
      "cell_type": "code",
      "source": [
        "H = nx.Graph(GraphG3)\n",
        "list(H.edges())\n"
      ],
      "metadata": {
        "colab": {
          "base_uri": "https://localhost:8080/"
        },
        "id": "AWQG8Y8mP5_I",
        "outputId": "732f9f1f-806a-4ace-f9eb-d007784d6ca2"
      },
      "execution_count": null,
      "outputs": [
        {
          "output_type": "execute_result",
          "data": {
            "text/plain": [
              "[('a', 'b'),\n",
              " ('a', 'd'),\n",
              " ('a', 'f'),\n",
              " ('b', 'c'),\n",
              " ('c', 'd'),\n",
              " ('c', 'e'),\n",
              " ('d', 'e'),\n",
              " ('d', 'f'),\n",
              " ('e', 'f')]"
            ]
          },
          "metadata": {},
          "execution_count": 10
        }
      ]
    },
    {
      "cell_type": "code",
      "source": [
        "nx.draw(H,with_labels=True,node_size=1500,node_color='purple')#,arrows=True)"
      ],
      "metadata": {
        "colab": {
          "base_uri": "https://localhost:8080/",
          "height": 319
        },
        "id": "_o7pwMj4P58T",
        "outputId": "71c54171-aae7-4d3f-dae9-4643eb033c07"
      },
      "execution_count": null,
      "outputs": [
        {
          "output_type": "display_data",
          "data": {
            "text/plain": [
              "<Figure size 432x288 with 1 Axes>"
            ],
            "image/png": "[encoded data removed]"
          },
          "metadata": {}
        }
      ]
    },
    {
      "cell_type": "markdown",
      "source": [
        "**GraphG2 :**"
      ],
      "metadata": {
        "id": "v48yO8_CraqK"
      }
    },
    {
      "cell_type": "code",
      "source": [
        "GraphG2 ={\n",
        "    'a':[],\n",
        "    'b':['a','c','d'],\n",
        "    'c':['a','b','d'],\n",
        "    'd':['d']\n",
        "}\n",
        "noeuds = GraphG2.keys()\n",
        "noeuds"
      ],
      "metadata": {
        "id": "Seae68nosojb",
        "colab": {
          "base_uri": "https://localhost:8080/"
        },
        "outputId": "f5e91d40-3677-4f21-891a-71e59a13a28c"
      },
      "execution_count": null,
      "outputs": [
        {
          "output_type": "execute_result",
          "data": {
            "text/plain": [
              "dict_keys(['a', 'b', 'c', 'd'])"
            ]
          },
          "metadata": {},
          "execution_count": 12
        }
      ]
    },
    {
      "cell_type": "code",
      "source": [
        "GraphG2"
      ],
      "metadata": {
        "id": "yYnai_mIsof-",
        "colab": {
          "base_uri": "https://localhost:8080/"
        },
        "outputId": "d53c42ac-467e-422e-cc46-cf08edc83c25"
      },
      "execution_count": null,
      "outputs": [
        {
          "output_type": "execute_result",
          "data": {
            "text/plain": [
              "{'a': [], 'b': ['a', 'c', 'd'], 'c': ['a', 'b', 'd'], 'd': ['d']}"
            ]
          },
          "metadata": {},
          "execution_count": 13
        }
      ]
    },
    {
      "cell_type": "code",
      "source": [
        "print(\"le grapheG2 est : \\n\")\n",
        "for noeud in noeuds:\n",
        "  print(noeud ,\"->\" ,GraphG2[noeud])"
      ],
      "metadata": {
        "id": "cZxzKrfcsoS8",
        "colab": {
          "base_uri": "https://localhost:8080/"
        },
        "outputId": "06da16ed-f5a6-4708-9e50-2ece081b8b5b"
      },
      "execution_count": null,
      "outputs": [
        {
          "output_type": "stream",
          "name": "stdout",
          "text": [
            "le grapheG2 est : \n",
            "\n",
            "a -> []\n",
            "b -> ['a', 'c', 'd']\n",
            "c -> ['a', 'b', 'd']\n",
            "d -> ['d']\n"
          ]
        }
      ]
    },
    {
      "cell_type": "code",
      "source": [
        "M = nx.Graph(GraphG2)\n",
        "list(H.edges())"
      ],
      "metadata": {
        "colab": {
          "base_uri": "https://localhost:8080/"
        },
        "id": "O5DNEX74P546",
        "outputId": "8f8c42a0-8d49-4d37-d310-9e9cb81fbac3"
      },
      "execution_count": null,
      "outputs": [
        {
          "output_type": "execute_result",
          "data": {
            "text/plain": [
              "[('a', 'b'),\n",
              " ('a', 'd'),\n",
              " ('a', 'f'),\n",
              " ('b', 'c'),\n",
              " ('c', 'd'),\n",
              " ('c', 'e'),\n",
              " ('d', 'e'),\n",
              " ('d', 'f'),\n",
              " ('e', 'f')]"
            ]
          },
          "metadata": {},
          "execution_count": 15
        }
      ]
    },
    {
      "cell_type": "markdown",
      "source": [
        "**REPRESENTATION DIRECTED GRAPH G2**"
      ],
      "metadata": {
        "id": "kmqphM8yZH38"
      }
    },
    {
      "cell_type": "code",
      "source": [
        "M = nx.DiGraph(GraphG2)\n",
        "list(M.edges())"
      ],
      "metadata": {
        "colab": {
          "base_uri": "https://localhost:8080/"
        },
        "id": "gLjOzwrAP5vt",
        "outputId": "4bd6c5a0-3732-4321-f14b-ae496f8dff40"
      },
      "execution_count": null,
      "outputs": [
        {
          "output_type": "execute_result",
          "data": {
            "text/plain": [
              "[('b', 'a'),\n",
              " ('b', 'c'),\n",
              " ('b', 'd'),\n",
              " ('c', 'a'),\n",
              " ('c', 'b'),\n",
              " ('c', 'd'),\n",
              " ('d', 'd')]"
            ]
          },
          "metadata": {},
          "execution_count": 16
        }
      ]
    },
    {
      "cell_type": "code",
      "source": [
        "nx.draw(M,with_labels=True,node_size=1000,node_color='green')#,arrows=True)"
      ],
      "metadata": {
        "colab": {
          "base_uri": "https://localhost:8080/",
          "height": 319
        },
        "id": "hL56MTlvYs9X",
        "outputId": "81447bbd-52cb-4da0-fa10-9fe8363fdbb1"
      },
      "execution_count": null,
      "outputs": [
        {
          "output_type": "display_data",
          "data": {
            "text/plain": [
              "<Figure size 432x288 with 1 Axes>"
            ],
            "image/png": "[encoded data removed]"
          },
          "metadata": {}
        }
      ]
    },
    {
      "cell_type": "code",
      "source": [],
      "metadata": {
        "id": "0rrZRLieavvz"
      },
      "execution_count": null,
      "outputs": []
    },
    {
      "cell_type": "markdown",
      "source": [
        "#**PARTIE 3 :**\n",
        "---\n",
        "\n"
      ],
      "metadata": {
        "id": "lz2XuqG9-2uf"
      }
    },
    {
      "cell_type": "markdown",
      "source": [
        "**Construction d'un graphe orienté/non orienté :**\n",
        "\n",
        "\n"
      ],
      "metadata": {
        "id": "S7i70KLi_E4e"
      }
    },
    {
      "cell_type": "code",
      "source": [
        "class Graphe:\n",
        "  def __init__(self,noeuds,oriented=False,weighted=False):\n",
        "    self.nodes = noeuds\n",
        "    self.adj_list={}\n",
        "    self.oriented=oriented\n",
        "    self.weighted=weighted\n",
        "\n",
        "    for node in self.nodes:\n",
        "      self.adj_list[node]=[]\n",
        "      \n",
        "\n",
        "  #Affiche le graphe\n",
        "\n",
        "  def affichGraph(self):\n",
        "    for node in self.nodes:\n",
        "      print(node,\"->\",self.adj_list[node])\n",
        "  \n",
        "  #Ajouter un noeud\n",
        "\n",
        "  def add_node(self,noeud):   \n",
        "    for node in self.nodes:\n",
        "      if noeud == node :\n",
        "        return \"node existe déjà\"\n",
        "    self.nodes.append(noeud)\n",
        "    self.adj_list[noeud]=[]\n",
        "    print('noeud',noeud,'ajouté')\n",
        "  \n",
        "  #recherche noeud\n",
        "  def searchf_node(self,noeud):\n",
        "    for node in self.nodes:\n",
        "      if node == noeud :\n",
        "        msg=\"le noeud {} : {}\".format(node,self.adj_list[node])\n",
        "        return msg\n",
        "    print('node does not exist')\n",
        "  \n",
        "  #Ajouter le lien\n",
        "\n",
        "  def add_edge(self,u,v,weight=1):\n",
        "    if not self.weighted: # si le graphe n'est pas pondéré\n",
        "       if v in (self.nodes):\n",
        "         self.adj_list[u].append(v)\n",
        "         print(\"edge added\")\n",
        "       else:\n",
        "         print(\"edge cannot be added , the node \",v,\"does not exist\")\n",
        "       if not self.oriented :\n",
        "         self.adj_list[v].append(u)\n",
        "    else: # si le graphe est pondéré\n",
        "       if v in (self.nodes):\n",
        "         self.adj_list[u].append([v,weight])\n",
        "         print(\"edge added\")\n",
        "       else:\n",
        "         print(\"edge cannot be added , the node \",v,\"does not exist\")\n",
        "       if not self.oriented :\n",
        "         self.adj_list[v].append([u,weight])\n",
        "    \n",
        "\n",
        "  #Supprimer un noeud avec ses liens\n",
        "\n",
        "  def delete_node(self,noeud):\n",
        "       if noeud not in self.nodes:\n",
        "         return (\"node doesn't exist\")\n",
        "       else : \n",
        "         self.adj_list.pop(noeud)\n",
        "         self.nodes.remove(noeud) #if exist delete it from the nodes list and adjencency list\n",
        "         print(\"node deleted \")\n",
        "         for node in self.nodes :\n",
        "           if noeud in self.adj_list[node] :\n",
        "              self.adj_list[node].remove(noeud)   #remove it from adjencency list ,removelinks with other nodes\n",
        "\n",
        "  #degré d'un noeud\n",
        "\n",
        "  def degree_node(self,noeud):\n",
        "    deg = len(self.adj_list[noeud])\n",
        "    return deg\n",
        "\n",
        "  #degré Graphe\n",
        "\n",
        "  def degree_graph(self):\n",
        "    return max(self.degree_node(node)for node in self.nodes)\n",
        "\n",
        "  #total d'aretes / arcs (edges)\n",
        "\n",
        "  def total_edges(self):\n",
        "    sum = 0\n",
        "    for node in self.nodes:\n",
        "      sum += len(self.adj_list[node])\n",
        "    if self.oriented :\n",
        "      return sum\n",
        "    else :\n",
        "      return sum //2\n",
        "\n",
        "  #nombre aretes/arcs possibles dans un graphe\n",
        "\n",
        "  def number_edges_possibles(self):\n",
        "       nb_sommets = len(self.nodes)\n",
        "       res = nb_sommets * (nb_sommets -1 )\n",
        "       if self.oriented :\n",
        "         return res\n",
        "       else :\n",
        "         return res//2\n",
        "    \n",
        "  #Densité du graphe \n",
        "\n",
        "  def density_graph(self):\n",
        "    return self.total_edges() / self.number_edges_possibles()\n",
        "\n",
        "\n",
        "\n",
        "  def find_path_dfs(self,start,end): #une 2eme methode pour trouver un chemin en utilisant dfs\n",
        "      visited = []\n",
        "      stack = [[start]]\n",
        "      while stack :\n",
        "        path = stack.pop()\n",
        "        node = path[-1]\n",
        "        if node in visited:\n",
        "          continue\n",
        "        visited.append(node)\n",
        "        if node == end :\n",
        "          return path\n",
        "        else :\n",
        "          adj_nodes = self.adj_list[node]\n",
        "          for node2 in adj_nodes:\n",
        "            new_path =path.copy()\n",
        "            new_path.append(node2)\n",
        "            stack.append(new_path)\n",
        "\n",
        "\n",
        "  def find_path(self, start, end, path=[]):\n",
        "    size_adj = len(self.adj_list[start])\n",
        "    path = path + [start]\n",
        "    if start == end:\n",
        "        return path\n",
        "    adj_list1=[]\n",
        "    for i in range(size_adj):\n",
        "      adj_list1=self.adj_list[start][i][0]\n",
        "    if len(adj_list1)==0:\n",
        "      return (\"PATH DOESN T EXIST\")\n",
        "    else :\n",
        "        for node in adj_list1: #for node in self.adj_list[start]:\n",
        "            if node not in path:\n",
        "                newpath = self.find_path(node, end, path)\n",
        "                if newpath:\n",
        "                    return newpath\n",
        "    return (\"None path doesn t exist \")\n",
        "\n",
        "  #shortest path\n",
        "  def find_shortest_path(self,start, end, path =[]): \n",
        "    size_adj = len(self.adj_list[start])\n",
        "    path = path + [start]\n",
        "    if start == end:\n",
        "        return path\n",
        "    shortest = None\n",
        "    adj_list_shortest=[]\n",
        "    for i in range(size_adj):\n",
        "      adj_list_shortest=self.adj_list[start][i][0]  \n",
        "    for node in adj_list_shortest:\n",
        "        if node not in path:\n",
        "            newpath = self.find_shortest_path(node, end, path)\n",
        "            if newpath:\n",
        "                if not shortest or len(newpath) < len(shortest):\n",
        "                    shortest = newpath\n",
        "    return shortest\n",
        "\n",
        "\n",
        "  #une 2eme methode chemin le plus court  \n",
        "  def find_shortest_path_pondere(self, start, end):\n",
        "     dist = {start: [start]}\n",
        "     q = deque(start)\n",
        "     while len(q): \n",
        "         at = q.popleft()\n",
        "         for next in self.adj_list[at]:\n",
        "             if next not in dist:\n",
        "                 dist[next] = [dist[at], next]\n",
        "                 q.append(next)\n",
        "     return dist.get(end)\n",
        "\n",
        "  \n",
        "\n",
        "  \"\"\" #dfs\n",
        "  def dfs(self, d, visited_vertex):\n",
        "        visited_vertex[d] = True    \n",
        "        print(d, end='')\n",
        "        for i in self.adj_list[d]:\n",
        "            if not visited_vertex[i]:\n",
        "                self.dfs(i, visited_vertex)\n",
        "\n",
        "  def fill_order(self, d, visited_vertex, stack):\n",
        "        visited_vertex[d] = True\n",
        "        for i in self.graph[d]: \n",
        "            if not visited_vertex[i]:\n",
        "                self.fill_order(i, visited_vertex, stack)\n",
        "        stack = stack.append(d)\n",
        "\n",
        "    # transpose the matrix\n",
        "  def transpose(self):\n",
        "        g =Graphe(self.nodes)\n",
        "\n",
        "        for i in self.nodes:\n",
        "            for j in self.adj_list[i]:\n",
        "                g.add_edge(j, i)\n",
        "              \n",
        "        return g\n",
        "\n",
        "    # Print stongly connected components\n",
        "     def print_scc(self):\n",
        "        stack = []\n",
        "        visited_vertex = [False] * (self.nodes)\n",
        "\n",
        "        for i in range(self.nodes):\n",
        "            if not visited_vertex[i]:\n",
        "                self.fill_order(i, visited_vertex, stack)\n",
        "\n",
        "        gr = self.transpose()\n",
        "\n",
        "        visited_vertex = [False] * (self.nodes)\n",
        "\n",
        "        while stack:\n",
        "            i = stack.pop()\n",
        "            if not visited_vertex[i]:\n",
        "                gr.dfs(i, visited_vertex)\n",
        "                print(\"\") \"\"\"\n",
        " \n",
        "\n",
        "\n",
        "\n",
        "        \n",
        "        \n",
        "        \n",
        "\n",
        " "
      ],
      "metadata": {
        "id": "x3TY3SHX-Rpv"
      },
      "execution_count": null,
      "outputs": []
    },
    {
      "cell_type": "markdown",
      "source": [
        "**TEST**"
      ],
      "metadata": {
        "id": "Lvb-SDIAspCy"
      }
    },
    {
      "cell_type": "code",
      "source": [
        "noeuds3=['a','b','c','d']\n",
        "print(\"le graphe3 avant d'ajouter les liens:\\n\")\n",
        "graph3=Graphe(noeuds3,oriented=True)\n",
        "graph3.affichGraph()"
      ],
      "metadata": {
        "colab": {
          "base_uri": "https://localhost:8080/"
        },
        "id": "WtU0sDYvEf_E",
        "outputId": "48c15ded-511c-4e85-ef78-1ca2f5b2270e"
      },
      "execution_count": null,
      "outputs": [
        {
          "output_type": "stream",
          "name": "stdout",
          "text": [
            "le graphe3 avant d'ajouter les liens:\n",
            "\n",
            "a -> []\n",
            "b -> []\n",
            "c -> []\n",
            "d -> []\n"
          ]
        }
      ]
    },
    {
      "cell_type": "code",
      "source": [
        "graph3.add_edge('a','s') #affiche erreur disant que le noeud s n'existe pas\n",
        "graph3.affichGraph()"
      ],
      "metadata": {
        "colab": {
          "base_uri": "https://localhost:8080/"
        },
        "id": "nBVB6KYm7nP8",
        "outputId": "a621be6a-9a45-4e81-e52c-aaca454e3985"
      },
      "execution_count": null,
      "outputs": [
        {
          "output_type": "stream",
          "name": "stdout",
          "text": [
            "edge cannot be added , the node  s does not exist\n",
            "a -> []\n",
            "b -> []\n",
            "c -> []\n",
            "d -> []\n"
          ]
        }
      ]
    },
    {
      "cell_type": "code",
      "source": [
        "graph3.adj_list"
      ],
      "metadata": {
        "colab": {
          "base_uri": "https://localhost:8080/"
        },
        "id": "qdB4mOpqhjro",
        "outputId": "c360c929-0f91-4422-f5b7-cc2b02bfa73b"
      },
      "execution_count": null,
      "outputs": [
        {
          "output_type": "execute_result",
          "data": {
            "text/plain": [
              "{'a': [], 'b': [], 'c': [], 'd': []}"
            ]
          },
          "metadata": {},
          "execution_count": 36
        }
      ]
    },
    {
      "cell_type": "code",
      "source": [
        "graph3.nodes"
      ],
      "metadata": {
        "colab": {
          "base_uri": "https://localhost:8080/"
        },
        "id": "O-S8oOkKYrC1",
        "outputId": "c75dfe8b-0a0b-4eb3-b142-29cd88de6404"
      },
      "execution_count": null,
      "outputs": [
        {
          "output_type": "execute_result",
          "data": {
            "text/plain": [
              "['a', 'b', 'c', 'd']"
            ]
          },
          "metadata": {},
          "execution_count": 37
        }
      ]
    },
    {
      "cell_type": "code",
      "source": [
        "graph3.add_node('a')"
      ],
      "metadata": {
        "colab": {
          "base_uri": "https://localhost:8080/",
          "height": 35
        },
        "id": "AqP9YqbGZWE0",
        "outputId": "ebfc4381-d884-4035-be3f-39162997ec9a"
      },
      "execution_count": null,
      "outputs": [
        {
          "output_type": "execute_result",
          "data": {
            "text/plain": [
              "'node existe déjà'"
            ],
            "application/vnd.google.colaboratory.intrinsic+json": {
              "type": "string"
            }
          },
          "metadata": {},
          "execution_count": 24
        }
      ]
    },
    {
      "cell_type": "code",
      "source": [
        "graph3.add_node('L')\n",
        "graph3.add_node('e')"
      ],
      "metadata": {
        "colab": {
          "base_uri": "https://localhost:8080/"
        },
        "id": "-BQmCHYmPofs",
        "outputId": "8e9435f6-1dd2-4fc4-bd5b-bd42e5bd9367"
      },
      "execution_count": null,
      "outputs": [
        {
          "output_type": "stream",
          "name": "stdout",
          "text": [
            "noeud L ajouté\n",
            "noeud e ajouté\n"
          ]
        }
      ]
    },
    {
      "cell_type": "code",
      "source": [
        "graph3.add_edge('a','d')\n",
        "graph3.add_edge('b','e')\n",
        "graph3.add_edge('L','e')\n",
        "graph3.add_edge('a','L')\n",
        "graph3.add_edge('a','c')\n",
        "graph3.add_edge('L','d')\n",
        "graph3.add_edge('d','c')\n",
        "graph3.add_edge('c','b')"
      ],
      "metadata": {
        "colab": {
          "base_uri": "https://localhost:8080/"
        },
        "id": "IfI1LDJV7dA-",
        "outputId": "3ee37adb-b1ab-488c-a244-2f2c40abfc2c"
      },
      "execution_count": null,
      "outputs": [
        {
          "output_type": "stream",
          "name": "stdout",
          "text": [
            "edge added\n",
            "edge added\n",
            "edge added\n",
            "edge added\n",
            "edge added\n",
            "edge added\n",
            "edge added\n",
            "edge added\n"
          ]
        }
      ]
    },
    {
      "cell_type": "code",
      "source": [
        "graph3.add_edge('a','d',22)\n",
        "graph3.add_edge('b','e',14)\n",
        "graph3.add_edge('L','e',13)\n",
        "graph3.add_edge('a','L',9)\n",
        "graph3.add_edge('a','c')\n",
        "graph3.add_edge('L','d',3)\n",
        "graph3.add_edge('d','c',7)\n",
        "graph3.add_edge('c','b',20)"
      ],
      "metadata": {
        "colab": {
          "base_uri": "https://localhost:8080/"
        },
        "id": "C_QXNjhiCUEA",
        "outputId": "366849c5-4b4b-4b1a-d15b-a140b4dd0b57"
      },
      "execution_count": null,
      "outputs": [
        {
          "output_type": "stream",
          "name": "stdout",
          "text": [
            "edge added\n",
            "edge added\n",
            "edge added\n",
            "edge added\n",
            "edge added\n",
            "edge added\n",
            "edge added\n"
          ]
        }
      ]
    },
    {
      "cell_type": "code",
      "source": [
        "print(\"\\nle graphe3 aprés l'ajout des lien :\\n\")\n",
        "graph3.affichGraph()"
      ],
      "metadata": {
        "colab": {
          "base_uri": "https://localhost:8080/"
        },
        "id": "MM_pSTqwERbq",
        "outputId": "692c0c27-a1d1-462c-8ac9-494284ed74a6"
      },
      "execution_count": null,
      "outputs": [
        {
          "output_type": "stream",
          "name": "stdout",
          "text": [
            "\n",
            "le graphe3 aprés l'ajout des lien :\n",
            "\n",
            "a -> ['d', 'L', 'c']\n",
            "b -> ['e']\n",
            "c -> ['b']\n",
            "d -> ['c']\n",
            "L -> ['e', 'd']\n",
            "e -> []\n"
          ]
        }
      ]
    },
    {
      "cell_type": "code",
      "source": [
        "graphe_pondere ={\n",
        " 'a': [['d', 22], ['L', 9], ['c', 1]],\n",
        " 'b': [['e', 14]],\n",
        " 'c': [['b', 20]],\n",
        " 'd': [['c', 7]],\n",
        " 'L': [['e', 13], ['d', 3]],\n",
        " 'e': ['a']}"
      ],
      "metadata": {
        "id": "ko1VlANOCptC"
      },
      "execution_count": null,
      "outputs": []
    },
    {
      "cell_type": "code",
      "source": [
        "graph3.adj_list"
      ],
      "metadata": {
        "colab": {
          "base_uri": "https://localhost:8080/"
        },
        "id": "v1khMXOUClbb",
        "outputId": "3089d7d3-f9b5-4cae-f2dd-4b6389c9835a"
      },
      "execution_count": null,
      "outputs": [
        {
          "output_type": "execute_result",
          "data": {
            "text/plain": [
              "{'a': [['d', 22], ['L', 9], ['c', 1]],\n",
              " 'b': [['e', 14]],\n",
              " 'c': [['b', 20]],\n",
              " 'd': [['c', 7]],\n",
              " 'L': [['e', 13], ['d', 3]],\n",
              " 'e': []}"
            ]
          },
          "metadata": {},
          "execution_count": 10
        }
      ]
    },
    {
      "cell_type": "code",
      "source": [
        "graph3.nodes"
      ],
      "metadata": {
        "colab": {
          "base_uri": "https://localhost:8080/"
        },
        "id": "Ohz3DwI1ZcWr",
        "outputId": "6fa31eef-45c4-4a69-de80-20f64e420686"
      },
      "execution_count": null,
      "outputs": [
        {
          "output_type": "execute_result",
          "data": {
            "text/plain": [
              "['a', 'b', 'c', 'd', 'L', 'e']"
            ]
          },
          "metadata": {},
          "execution_count": 135
        }
      ]
    },
    {
      "cell_type": "code",
      "source": [
        "graph3."
      ],
      "metadata": {
        "colab": {
          "base_uri": "https://localhost:8080/"
        },
        "id": "aa5gkttMVJgc",
        "outputId": "8f7c5245-3c8d-4f32-ea55-f938fcee2acf"
      },
      "execution_count": null,
      "outputs": [
        {
          "output_type": "execute_result",
          "data": {
            "text/plain": [
              "['d', 'L', 'c']"
            ]
          },
          "metadata": {},
          "execution_count": 136
        }
      ]
    },
    {
      "cell_type": "code",
      "source": [
        "graph3.searchf_node('ss') #dit que le noeud existe pas"
      ],
      "metadata": {
        "colab": {
          "base_uri": "https://localhost:8080/"
        },
        "id": "3LN8jsb5bQ2q",
        "outputId": "9aa08ed6-0cf3-4489-cb65-ac92472ea973"
      },
      "execution_count": null,
      "outputs": [
        {
          "output_type": "stream",
          "name": "stdout",
          "text": [
            "node does not exist\n"
          ]
        }
      ]
    },
    {
      "cell_type": "code",
      "source": [
        "graph3.searchf_node('c')"
      ],
      "metadata": {
        "id": "JcPS3txTo32q",
        "colab": {
          "base_uri": "https://localhost:8080/",
          "height": 35
        },
        "outputId": "74f26712-6b1a-44eb-c346-da4a0ca41bbd"
      },
      "execution_count": null,
      "outputs": [
        {
          "output_type": "execute_result",
          "data": {
            "text/plain": [
              "\"le noeud c : ['b']\""
            ],
            "application/vnd.google.colaboratory.intrinsic+json": {
              "type": "string"
            }
          },
          "metadata": {},
          "execution_count": 17
        }
      ]
    },
    {
      "cell_type": "markdown",
      "source": [
        "delete noeud"
      ],
      "metadata": {
        "id": "fwEszvjh77vd"
      }
    },
    {
      "cell_type": "code",
      "source": [
        "graph3.affichGraph()"
      ],
      "metadata": {
        "colab": {
          "base_uri": "https://localhost:8080/"
        },
        "id": "fpbDqIMU8EqX",
        "outputId": "4cc8b2cf-1080-43a0-a6f9-cac5bde76397"
      },
      "execution_count": null,
      "outputs": [
        {
          "output_type": "stream",
          "name": "stdout",
          "text": [
            "a -> ['d', 'L', 'c']\n",
            "b -> ['e']\n",
            "c -> ['b']\n",
            "d -> ['c']\n",
            "L -> ['e', 'd']\n",
            "e -> []\n"
          ]
        }
      ]
    },
    {
      "cell_type": "code",
      "source": [
        "graph3.affichGraph()"
      ],
      "metadata": {
        "id": "4Fr2WIyx885-"
      },
      "execution_count": null,
      "outputs": []
    },
    {
      "cell_type": "code",
      "source": [
        "graph3.delete_node('a')"
      ],
      "metadata": {
        "colab": {
          "base_uri": "https://localhost:8080/"
        },
        "id": "xWKztMnA9e6e",
        "outputId": "6b4a8d90-8664-4706-b039-d9db2567cec1"
      },
      "execution_count": null,
      "outputs": [
        {
          "output_type": "stream",
          "name": "stdout",
          "text": [
            "node deleted \n"
          ]
        }
      ]
    },
    {
      "cell_type": "code",
      "source": [
        "graph3.affichGraph()"
      ],
      "metadata": {
        "colab": {
          "base_uri": "https://localhost:8080/"
        },
        "id": "bROxefhBAUgm",
        "outputId": "5002d39b-bef9-4ec0-a84a-4f65dbf5a993"
      },
      "execution_count": null,
      "outputs": [
        {
          "output_type": "stream",
          "name": "stdout",
          "text": [
            "b -> ['e']\n",
            "c -> ['b']\n",
            "d -> ['c']\n",
            "L -> ['e', 'd']\n",
            "e -> []\n"
          ]
        }
      ]
    },
    {
      "cell_type": "code",
      "source": [
        "graph3.delete_node('lyna')"
      ],
      "metadata": {
        "id": "-IAKhOsPGWzK",
        "colab": {
          "base_uri": "https://localhost:8080/"
        },
        "outputId": "3bed13ec-4a8a-43be-d3c0-adae102d564b"
      },
      "execution_count": null,
      "outputs": [
        {
          "output_type": "stream",
          "name": "stdout",
          "text": [
            "node deleted \n"
          ]
        }
      ]
    },
    {
      "cell_type": "code",
      "source": [
        "graph3.affichGraph()"
      ],
      "metadata": {
        "colab": {
          "base_uri": "https://localhost:8080/"
        },
        "id": "E_fDkrrbA977",
        "outputId": "953c369a-d3c5-4c9e-a32b-c034f8435fb8"
      },
      "execution_count": null,
      "outputs": [
        {
          "output_type": "stream",
          "name": "stdout",
          "text": [
            "a -> ['d', 'L', 'c']\n",
            "b -> ['e']\n",
            "c -> ['b']\n",
            "d -> ['c']\n",
            "L -> ['e', 'd']\n",
            "e -> []\n"
          ]
        }
      ]
    },
    {
      "cell_type": "code",
      "source": [
        "graph3.adj_list[\"a\"]"
      ],
      "metadata": {
        "id": "P54mUSjEA7F8"
      },
      "execution_count": null,
      "outputs": []
    },
    {
      "cell_type": "markdown",
      "source": [
        "**Degré d'un noeud et Densité d'un graphe**"
      ],
      "metadata": {
        "id": "YEto29sQ3pJQ"
      }
    },
    {
      "cell_type": "code",
      "source": [
        "graph3.degree_node('lyna') #degré noeud"
      ],
      "metadata": {
        "colab": {
          "base_uri": "https://localhost:8080/"
        },
        "id": "0npEAApm3gQR",
        "outputId": "86d000f2-dc5b-4b36-9bad-c7be7172eb0c"
      },
      "execution_count": null,
      "outputs": [
        {
          "output_type": "execute_result",
          "data": {
            "text/plain": [
              "2"
            ]
          },
          "metadata": {},
          "execution_count": 36
        }
      ]
    },
    {
      "cell_type": "code",
      "source": [
        "graph3.affichGraph()"
      ],
      "metadata": {
        "colab": {
          "base_uri": "https://localhost:8080/"
        },
        "id": "XxNweq__9F6b",
        "outputId": "f173eb06-2177-42f2-f8c4-9c707bcc1665"
      },
      "execution_count": null,
      "outputs": [
        {
          "output_type": "stream",
          "name": "stdout",
          "text": [
            "a -> ['d', 'L', 'c']\n",
            "b -> ['e']\n",
            "c -> ['b']\n",
            "d -> ['c']\n",
            "L -> ['e', 'd']\n",
            "e -> []\n"
          ]
        }
      ]
    },
    {
      "cell_type": "code",
      "source": [
        "def dencity(graph3):\n",
        "  return max(graph3.Degree_node(node)for node in graph3.nodes)"
      ],
      "metadata": {
        "id": "AVebC4Ku_wN3"
      },
      "execution_count": null,
      "outputs": []
    },
    {
      "cell_type": "code",
      "source": [
        "graph3.degree_graph()"
      ],
      "metadata": {
        "colab": {
          "base_uri": "https://localhost:8080/"
        },
        "id": "3yonvV77Cup0",
        "outputId": "ad95f45f-8cea-42ae-9528-691704074a01"
      },
      "execution_count": null,
      "outputs": [
        {
          "output_type": "execute_result",
          "data": {
            "text/plain": [
              "3"
            ]
          },
          "metadata": {},
          "execution_count": 38
        }
      ]
    },
    {
      "cell_type": "code",
      "source": [
        "graph3.density_graph()"
      ],
      "metadata": {
        "colab": {
          "base_uri": "https://localhost:8080/"
        },
        "id": "kYbpZKtEC-6D",
        "outputId": "c7b8074e-2702-4d37-a48d-8c98e5b4c156"
      },
      "execution_count": null,
      "outputs": [
        {
          "output_type": "execute_result",
          "data": {
            "text/plain": [
              "0.26666666666666666"
            ]
          },
          "metadata": {},
          "execution_count": 46
        }
      ]
    },
    {
      "cell_type": "markdown",
      "source": [
        "**Find path :**"
      ],
      "metadata": {
        "id": "mcf_PuRUr-7w"
      }
    },
    {
      "cell_type": "code",
      "source": [
        "graph3.affichGraph()"
      ],
      "metadata": {
        "colab": {
          "base_uri": "https://localhost:8080/"
        },
        "id": "3RM-sKAMt-0e",
        "outputId": "71b6ca7c-3831-4f03-90db-475947d8a10a"
      },
      "execution_count": null,
      "outputs": [
        {
          "output_type": "stream",
          "name": "stdout",
          "text": [
            "a -> ['d', 'L', 'c']\n",
            "b -> ['e']\n",
            "c -> ['b']\n",
            "d -> ['c']\n",
            "L -> ['e', 'd']\n",
            "e -> []\n"
          ]
        }
      ]
    },
    {
      "cell_type": "code",
      "source": [
        "for i in range(len(graph3.adj_list['a']))  :\n",
        "   print(graph3.adj_list['a'][i][0])"
      ],
      "metadata": {
        "colab": {
          "base_uri": "https://localhost:8080/"
        },
        "id": "Xka4R2UuKTKd",
        "outputId": "79edd691-9186-4f9a-9daf-68e42e78ecfc"
      },
      "execution_count": null,
      "outputs": [
        {
          "output_type": "stream",
          "name": "stdout",
          "text": [
            "d\n",
            "L\n",
            "c\n"
          ]
        }
      ]
    },
    {
      "cell_type": "code",
      "source": [
        "graph3.find_path_dfs('a','d')"
      ],
      "metadata": {
        "colab": {
          "base_uri": "https://localhost:8080/"
        },
        "id": "tSfzO_oFuM1d",
        "outputId": "2ef92b9f-3fcd-4f82-d3b6-c9d82a222cc0"
      },
      "execution_count": null,
      "outputs": [
        {
          "output_type": "execute_result",
          "data": {
            "text/plain": [
              "['a', 'L', 'd']"
            ]
          },
          "metadata": {},
          "execution_count": 47
        }
      ]
    },
    {
      "cell_type": "code",
      "source": [
        "graph3.affichGraph()"
      ],
      "metadata": {
        "colab": {
          "base_uri": "https://localhost:8080/"
        },
        "id": "rN0WDREI3Ohw",
        "outputId": "c3bcd6b7-ee02-4baa-b465-e84b48a77522"
      },
      "execution_count": null,
      "outputs": [
        {
          "output_type": "stream",
          "name": "stdout",
          "text": [
            "a -> ['d', 'L', 'c']\n",
            "b -> ['e']\n",
            "c -> ['b']\n",
            "d -> ['c']\n",
            "L -> ['e', 'd']\n",
            "e -> []\n"
          ]
        }
      ]
    },
    {
      "cell_type": "code",
      "source": [
        "graph3.adj_list[0]"
      ],
      "metadata": {
        "id": "WiuljHsU3SIz"
      },
      "execution_count": null,
      "outputs": []
    },
    {
      "cell_type": "code",
      "source": [
        "graph3.nodes"
      ],
      "metadata": {
        "colab": {
          "base_uri": "https://localhost:8080/"
        },
        "id": "lZ5UgprE3qVK",
        "outputId": "7740db1c-3888-407c-ad39-c2f538294e96"
      },
      "execution_count": null,
      "outputs": [
        {
          "output_type": "execute_result",
          "data": {
            "text/plain": [
              "['a', 'b', 'c', 'd', 'lyna', 'e']"
            ]
          },
          "metadata": {},
          "execution_count": 106
        }
      ]
    },
    {
      "cell_type": "code",
      "source": [
        "graph3.find_path_dfs(\"a\",\"b\")"
      ],
      "metadata": {
        "colab": {
          "base_uri": "https://localhost:8080/"
        },
        "id": "K3mprTZTr6z2",
        "outputId": "f253a0b8-f63a-41cb-c134-8bb83304b69c"
      },
      "execution_count": null,
      "outputs": [
        {
          "output_type": "execute_result",
          "data": {
            "text/plain": [
              "['a', 'c', 'b']"
            ]
          },
          "metadata": {},
          "execution_count": 201
        }
      ]
    },
    {
      "cell_type": "code",
      "source": [],
      "metadata": {
        "id": "xHdmafw3-u0E"
      },
      "execution_count": null,
      "outputs": []
    },
    {
      "cell_type": "code",
      "source": [
        "graph3.find_path(\"d\",\"a\")"
      ],
      "metadata": {
        "colab": {
          "base_uri": "https://localhost:8080/",
          "height": 35
        },
        "id": "90U5HlnuFp8O",
        "outputId": "82fbb31e-333b-45c9-b8eb-e171812cf243"
      },
      "execution_count": null,
      "outputs": [
        {
          "output_type": "execute_result",
          "data": {
            "text/plain": [
              "'PATH DOESN T EXIST'"
            ],
            "application/vnd.google.colaboratory.intrinsic+json": {
              "type": "string"
            }
          },
          "metadata": {},
          "execution_count": 50
        }
      ]
    },
    {
      "cell_type": "code",
      "source": [
        "graph3.find_path(\"a\",\"e\")"
      ],
      "metadata": {
        "colab": {
          "base_uri": "https://localhost:8080/"
        },
        "id": "efVm285XKINC",
        "outputId": "8efbac15-a4fb-476c-de5f-3084531f4bc7"
      },
      "execution_count": null,
      "outputs": [
        {
          "output_type": "execute_result",
          "data": {
            "text/plain": [
              "['a', 'c', 'b', 'e']"
            ]
          },
          "metadata": {},
          "execution_count": 51
        }
      ]
    },
    {
      "cell_type": "code",
      "source": [
        "graph3.find_path(\"a\",\"e\")"
      ],
      "metadata": {
        "colab": {
          "base_uri": "https://localhost:8080/"
        },
        "id": "leb0IerPKNFq",
        "outputId": "c81d3785-263c-4c3e-8687-b91385133986"
      },
      "execution_count": null,
      "outputs": [
        {
          "output_type": "execute_result",
          "data": {
            "text/plain": [
              "['a', 'd', 'c', 'b', 'e']"
            ]
          },
          "metadata": {},
          "execution_count": 78
        }
      ]
    },
    {
      "cell_type": "code",
      "source": [
        "graph3.find_shortest_path(\"a\",\"e\")"
      ],
      "metadata": {
        "colab": {
          "base_uri": "https://localhost:8080/"
        },
        "id": "V1Hw3dx9DtBn",
        "outputId": "0fc97ae8-cd6d-4080-f607-4706e695129b"
      },
      "execution_count": null,
      "outputs": [
        {
          "output_type": "execute_result",
          "data": {
            "text/plain": [
              "['a', 'c', 'b', 'e']"
            ]
          },
          "metadata": {},
          "execution_count": 79
        }
      ]
    },
    {
      "cell_type": "code",
      "source": [
        "graph3.find_shortest_path_off(\"a\",\"e\")"
      ],
      "metadata": {
        "colab": {
          "base_uri": "https://localhost:8080/"
        },
        "id": "Yi16yFowK-BK",
        "outputId": "07c04be8-74c3-4a0b-8796-6b2c2fae86ae"
      },
      "execution_count": null,
      "outputs": [
        {
          "output_type": "execute_result",
          "data": {
            "text/plain": [
              "['a', 'c', 'b', 'e']"
            ]
          },
          "metadata": {},
          "execution_count": 80
        }
      ]
    },
    {
      "cell_type": "code",
      "source": [
        "graph3.find_shortest_path()"
      ],
      "metadata": {
        "id": "mQr5h9KbLQ0T"
      },
      "execution_count": null,
      "outputs": []
    },
    {
      "cell_type": "code",
      "source": [
        "graph3.affichGraph()"
      ],
      "metadata": {
        "colab": {
          "base_uri": "https://localhost:8080/"
        },
        "id": "SEyURWRovZD1",
        "outputId": "62cd31d8-4176-40b4-9a74-a84328c10b7a"
      },
      "execution_count": null,
      "outputs": [
        {
          "output_type": "stream",
          "name": "stdout",
          "text": [
            "a -> ['d', 'L', 'c']\n",
            "b -> ['e']\n",
            "c -> ['b']\n",
            "d -> ['c']\n",
            "L -> ['e', 'd']\n",
            "e -> []\n"
          ]
        }
      ]
    },
    {
      "cell_type": "code",
      "source": [
        "graph3.find_shortest_path3(\"a\",\"e\")"
      ],
      "metadata": {
        "colab": {
          "base_uri": "https://localhost:8080/"
        },
        "id": "q-jebiybdyjJ",
        "outputId": "d1a1bf89-4473-4ccf-e702-c4c4c9b6b4e7"
      },
      "execution_count": null,
      "outputs": [
        {
          "output_type": "execute_result",
          "data": {
            "text/plain": [
              "[[['a'], 'L'], 'e']"
            ]
          },
          "metadata": {},
          "execution_count": 279
        }
      ]
    },
    {
      "cell_type": "code",
      "source": [
        "graph3.find_shortest_path_off(\"e\",\"a\")"
      ],
      "metadata": {
        "id": "Um8LZ4apFCwm"
      },
      "execution_count": null,
      "outputs": []
    },
    {
      "cell_type": "code",
      "source": [
        "graph3.find_shortest_path(\"e\",\"a\")"
      ],
      "metadata": {
        "id": "IMKB0pjKFCs2"
      },
      "execution_count": null,
      "outputs": []
    },
    {
      "cell_type": "markdown",
      "source": [
        "weighted test\n"
      ],
      "metadata": {
        "id": "7Uh6EqAbLpjq"
      }
    },
    {
      "cell_type": "code",
      "source": [
        "graph3.find_path(\"d\",\"a\")"
      ],
      "metadata": {
        "colab": {
          "base_uri": "https://localhost:8080/",
          "height": 35
        },
        "id": "qicgc9B-LrkZ",
        "outputId": "8c916100-4d99-4138-a771-31b86c48cfb5"
      },
      "execution_count": null,
      "outputs": [
        {
          "output_type": "execute_result",
          "data": {
            "text/plain": [
              "'PATH DOESN T EXIST'"
            ],
            "application/vnd.google.colaboratory.intrinsic+json": {
              "type": "string"
            }
          },
          "metadata": {},
          "execution_count": 234
        }
      ]
    },
    {
      "cell_type": "code",
      "source": [
        "graph3.affichGraph()"
      ],
      "metadata": {
        "colab": {
          "base_uri": "https://localhost:8080/"
        },
        "id": "BIaCkPPl_cXC",
        "outputId": "f341bf99-a011-4599-bfda-6aba7687f639"
      },
      "execution_count": null,
      "outputs": [
        {
          "output_type": "stream",
          "name": "stdout",
          "text": [
            "a -> ['d', 'L', 'c']\n",
            "b -> ['e']\n",
            "c -> ['b']\n",
            "d -> ['c']\n",
            "L -> ['e', 'd']\n",
            "e -> []\n"
          ]
        }
      ]
    },
    {
      "cell_type": "code",
      "source": [
        "graph3.find_path_dfs(\"a\",\"c\")"
      ],
      "metadata": {
        "colab": {
          "base_uri": "https://localhost:8080/"
        },
        "id": "696MWguCLy-K",
        "outputId": "42dba8c0-17bf-4896-fcfe-c839dea8385c"
      },
      "execution_count": null,
      "outputs": [
        {
          "output_type": "execute_result",
          "data": {
            "text/plain": [
              "['a', 'c']"
            ]
          },
          "metadata": {},
          "execution_count": 74
        }
      ]
    },
    {
      "cell_type": "code",
      "source": [
        "graph3.find_shortest_path_off(\"a\",\"e\") "
      ],
      "metadata": {
        "colab": {
          "base_uri": "https://localhost:8080/"
        },
        "id": "2c7tov5rLy7B",
        "outputId": "ffae4bcd-632d-4408-a722-27ce0e1ec8ce"
      },
      "execution_count": null,
      "outputs": [
        {
          "output_type": "execute_result",
          "data": {
            "text/plain": [
              "['a', 'c', 'b', 'e']"
            ]
          },
          "metadata": {},
          "execution_count": 76
        }
      ]
    },
    {
      "cell_type": "code",
      "source": [],
      "metadata": {
        "id": "hOjRzLvQLy0Z"
      },
      "execution_count": null,
      "outputs": []
    },
    {
      "cell_type": "markdown",
      "source": [
        "GEEKS FOR GEEKS PROGRAM"
      ],
      "metadata": {
        "id": "ZOJEJWgGrKbn"
      }
    },
    {
      "cell_type": "code",
      "source": [
        "graph = {\n",
        "    'a': ['c'],\n",
        "    'b': ['d'],\n",
        "    'c': ['e'],\n",
        "    'd': ['a', 'd'],\n",
        "    'e': ['b', 'c']\n",
        "}"
      ],
      "metadata": {
        "id": "lS3_TFFirMOR"
      },
      "execution_count": null,
      "outputs": []
    },
    {
      "cell_type": "code",
      "source": [
        "def find_path(graph, start, end, path=[]):\n",
        "    path = path + [start]\n",
        "    if start == end:\n",
        "        return path\n",
        "    for node in graph[start]:\n",
        "        if node not in path:\n",
        "            newpath = find_path(graph, node, end, path)\n",
        "            if newpath:\n",
        "                return newpath"
      ],
      "metadata": {
        "id": "6NfnrUAMrQ94"
      },
      "execution_count": null,
      "outputs": []
    },
    {
      "cell_type": "code",
      "source": [
        "print(find_path(graph, 'd', 'c'))"
      ],
      "metadata": {
        "colab": {
          "base_uri": "https://localhost:8080/"
        },
        "id": "ALqRXZhBrU2_",
        "outputId": "d345bd59-3b0a-437b-f67a-f76f70563a70"
      },
      "execution_count": null,
      "outputs": [
        {
          "output_type": "stream",
          "name": "stdout",
          "text": [
            "['d', 'a', 'c']\n"
          ]
        }
      ]
    },
    {
      "cell_type": "code",
      "source": [
        "find_path(graph, 'd', 'c')"
      ],
      "metadata": {
        "colab": {
          "base_uri": "https://localhost:8080/"
        },
        "id": "-27kqOOdofVQ",
        "outputId": "36a50789-ec31-4faf-e7dd-d39497640f9f"
      },
      "execution_count": null,
      "outputs": [
        {
          "output_type": "execute_result",
          "data": {
            "text/plain": [
              "['d', 'a', 'c']"
            ]
          },
          "metadata": {},
          "execution_count": 50
        }
      ]
    },
    {
      "cell_type": "markdown",
      "source": [
        "test find all paths"
      ],
      "metadata": {
        "id": "2Tt2-VwVXa5i"
      }
    },
    {
      "cell_type": "code",
      "source": [
        "graph3.find_path(\"a\",\"e\")"
      ],
      "metadata": {
        "colab": {
          "base_uri": "https://localhost:8080/"
        },
        "id": "iU9ueey0Xcrq",
        "outputId": "df107d40-889d-4589-a300-a6e903942922"
      },
      "execution_count": null,
      "outputs": [
        {
          "output_type": "execute_result",
          "data": {
            "text/plain": [
              "['a', 'c', 'b', 'e']"
            ]
          },
          "metadata": {},
          "execution_count": 254
        }
      ]
    },
    {
      "cell_type": "code",
      "source": [
        "graph3.find_path_off(\"a\",\"e\")"
      ],
      "metadata": {
        "colab": {
          "base_uri": "https://localhost:8080/"
        },
        "id": "WaDqGPe6XmHM",
        "outputId": "c208e4d2-a7f1-4f1a-ea61-97780d8255ac"
      },
      "execution_count": null,
      "outputs": [
        {
          "output_type": "execute_result",
          "data": {
            "text/plain": [
              "['a', 'd', 'c', 'b', 'e']"
            ]
          },
          "metadata": {},
          "execution_count": 255
        }
      ]
    },
    {
      "cell_type": "code",
      "source": [
        "paths= graph3.find_all_paths(\"a\",\"e\")\n",
        "paths"
      ],
      "metadata": {
        "colab": {
          "base_uri": "https://localhost:8080/"
        },
        "id": "LGlL52p3XqBJ",
        "outputId": "cb1738e3-1f6c-4c98-aaf3-dd51638a0b97"
      },
      "execution_count": null,
      "outputs": [
        {
          "output_type": "execute_result",
          "data": {
            "text/plain": [
              "[['a', 'd', 'c', 'b', 'e'],\n",
              " ['a', 'L', 'e'],\n",
              " ['a', 'L', 'd', 'c', 'b', 'e'],\n",
              " ['a', 'c', 'b', 'e']]"
            ]
          },
          "metadata": {},
          "execution_count": 8
        }
      ]
    },
    {
      "cell_type": "code",
      "source": [
        "min(paths, key=len) #shortest path"
      ],
      "metadata": {
        "colab": {
          "base_uri": "https://localhost:8080/"
        },
        "id": "9FZJtSwDZiwA",
        "outputId": "7199c772-223e-4475-8b5c-f5421c0b8782"
      },
      "execution_count": null,
      "outputs": [
        {
          "output_type": "execute_result",
          "data": {
            "text/plain": [
              "['a', 'L', 'e']"
            ]
          },
          "metadata": {},
          "execution_count": 9
        }
      ]
    },
    {
      "cell_type": "markdown",
      "source": [
        "# **Representation graphique a partir de la classe**"
      ],
      "metadata": {
        "id": "tQYoeNXTiOr6"
      }
    },
    {
      "cell_type": "code",
      "source": [
        "import networkx as nx\n",
        "g3 = graph3.adj_list\n",
        "g3"
      ],
      "metadata": {
        "colab": {
          "base_uri": "https://localhost:8080/"
        },
        "id": "SDhe6p1meH7Z",
        "outputId": "eb7a7461-18cd-471f-fd08-4a9b0630fcd3"
      },
      "execution_count": null,
      "outputs": [
        {
          "output_type": "execute_result",
          "data": {
            "text/plain": [
              "{'a': ['d', 'L', 'c'],\n",
              " 'b': ['e'],\n",
              " 'c': ['b'],\n",
              " 'd': ['c'],\n",
              " 'L': ['e', 'd'],\n",
              " 'e': []}"
            ]
          },
          "metadata": {},
          "execution_count": 41
        }
      ]
    },
    {
      "cell_type": "code",
      "source": [
        "g3 =nx.DiGraph(g3)"
      ],
      "metadata": {
        "id": "utCk-QuCdtAK"
      },
      "execution_count": null,
      "outputs": []
    },
    {
      "cell_type": "code",
      "source": [
        "nx.draw(g3,with_labels=True,node_size=1500,node_color='red')#,arrows=True)"
      ],
      "metadata": {
        "colab": {
          "base_uri": "https://localhost:8080/",
          "height": 319
        },
        "id": "SuiPxF5ch4l4",
        "outputId": "dc1a8849-d518-461f-bb39-237cd0becd6c"
      },
      "execution_count": null,
      "outputs": [
        {
          "output_type": "display_data",
          "data": {
            "text/plain": [
              "<Figure size 432x288 with 1 Axes>"
            ],
            "image/png": "[encoded data removed]"
          },
          "metadata": {}
        }
      ]
    },
    {
      "cell_type": "code",
      "source": [],
      "metadata": {
        "id": "jMkF0_Rhh4ip"
      },
      "execution_count": null,
      "outputs": []
    },
    {
      "cell_type": "code",
      "source": [],
      "metadata": {
        "id": "y2SnfSKKh4cP"
      },
      "execution_count": null,
      "outputs": []
    },
    {
      "cell_type": "code",
      "source": [],
      "metadata": {
        "id": "ERZDxLqRYs6s"
      },
      "execution_count": null,
      "outputs": []
    },
    {
      "cell_type": "code",
      "source": [],
      "metadata": {
        "id": "Vsy0lf2rYs4J"
      },
      "execution_count": null,
      "outputs": []
    },
    {
      "cell_type": "code",
      "source": [],
      "metadata": {
        "id": "xwwqE2qMYs0w"
      },
      "execution_count": null,
      "outputs": []
    },
    {
      "cell_type": "code",
      "source": [],
      "metadata": {
        "id": "N6TZCsetYsxY"
      },
      "execution_count": null,
      "outputs": []
    },
    {
      "cell_type": "code",
      "execution_count": null,
      "metadata": {
        "id": "p22qZ7nekbrH"
      },
      "outputs": [],
      "source": [
        "class Vertex:\n",
        "\tdef __init__(self, n):\n",
        "\t\tself.name = n\n",
        "\n",
        "class Graph:\n",
        "\tvertices = {}\n",
        "\tedges = []\n",
        "\tedge_indices = {}\n",
        "\t\n",
        "\tdef add_vertex(self, vertex):\n",
        "\t\tif isinstance(vertex, Vertex) and vertex.name not in self.vertices:\n",
        "\t\t\tself.vertices[vertex.name] = vertex\n",
        "\t\t\tfor row in self.edges:\n",
        "\t\t\t\trow.append(0)\n",
        "\t\t\tself.edges.append([0] * (len(self.edges)+1))\n",
        "\t\t\tself.edge_indices[vertex.name] = len(self.edge_indices)\n",
        "\t\t\treturn True\n",
        "\t\telse:\n",
        "\t\t\treturn False\n",
        "\t\n",
        "\tdef add_edge(self, u, v, weight=1):\n",
        "\t\tif u in self.vertices and v in self.vertices:\n",
        "\t\t\tself.edges[self.edge_indices[u]][self.edge_indices[v]] = weight\n",
        "\t\t\tself.edges[self.edge_indices[v]][self.edge_indices[u]] = weight\n",
        "\t\t\treturn True\n",
        "\t\telse:\n",
        "\t\t\treturn False\n",
        "\t\t\t\n",
        "\tdef print_graph(self):\n",
        "\t\tfor v, i in sorted(self.edge_indices.items()):\n",
        "\t\t\tprint(v + ' ', end='')\n",
        "\t\t\tfor j in range(len(self.edges)):\n",
        "\t\t\t\tprint(self.edges[i][j], end='')\n",
        "\t\t\tprint(' ')    \n",
        "\n",
        "g = Graph()\n",
        "# print(str(len(g.vertices)))\n",
        "a = Vertex('A')\n",
        "g.add_vertex(a)\n",
        "g.add_vertex(Vertex('B'))\n",
        "for i in range(ord('A'), ord('K')):\n",
        "\tg.add_vertex(Vertex(chr(i)))\n",
        "\n",
        "edges = ['AB', 'AE', 'BF', 'CG', 'DE', 'DH', 'EH', 'FG', 'FI', 'FJ', 'GJ', 'HI']\n",
        "for edge in edges:\n",
        "\tg.add_edge(edge[:1], edge[1:])\n",
        "\n",
        "g.print_graph()"
      ]
    },
    {
      "cell_type": "code",
      "source": [],
      "metadata": {
        "id": "BGpCPtR9skll"
      },
      "execution_count": null,
      "outputs": []
    }
  ]
}